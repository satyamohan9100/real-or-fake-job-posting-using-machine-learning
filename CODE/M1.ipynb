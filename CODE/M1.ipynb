{
 "cells": [
  {
   "cell_type": "markdown",
   "id": "627898d0",
   "metadata": {},
   "source": [
    "# Data Preprocessing:"
   ]
  },
  {
   "cell_type": "code",
   "execution_count": 1,
   "id": "5e27ecca",
   "metadata": {},
   "outputs": [],
   "source": [
    "import warnings\n",
    "warnings.filterwarnings('ignore')"
   ]
  },
  {
   "cell_type": "code",
   "execution_count": 2,
   "id": "10864106",
   "metadata": {},
   "outputs": [],
   "source": [
    "import pandas as pd"
   ]
  },
  {
   "cell_type": "code",
   "execution_count": 3,
   "id": "9fef4178",
   "metadata": {},
   "outputs": [
    {
     "data": {
      "text/html": [
       "<div>\n",
       "<style scoped>\n",
       "    .dataframe tbody tr th:only-of-type {\n",
       "        vertical-align: middle;\n",
       "    }\n",
       "\n",
       "    .dataframe tbody tr th {\n",
       "        vertical-align: top;\n",
       "    }\n",
       "\n",
       "    .dataframe thead th {\n",
       "        text-align: right;\n",
       "    }\n",
       "</style>\n",
       "<table border=\"1\" class=\"dataframe\">\n",
       "  <thead>\n",
       "    <tr style=\"text-align: right;\">\n",
       "      <th></th>\n",
       "      <th>description</th>\n",
       "      <th>fraudulent</th>\n",
       "    </tr>\n",
       "  </thead>\n",
       "  <tbody>\n",
       "    <tr>\n",
       "      <th>0</th>\n",
       "      <td>IC&amp;amp;E Technician | Bakersfield, CA Mt. Poso...</td>\n",
       "      <td>1</td>\n",
       "    </tr>\n",
       "    <tr>\n",
       "      <th>1</th>\n",
       "      <td>The group has raised a fund for the purchase o...</td>\n",
       "      <td>1</td>\n",
       "    </tr>\n",
       "    <tr>\n",
       "      <th>2</th>\n",
       "      <td>Technician Instrument &amp;amp; ControlsLocation D...</td>\n",
       "      <td>1</td>\n",
       "    </tr>\n",
       "    <tr>\n",
       "      <th>3</th>\n",
       "      <td>Sales Executive</td>\n",
       "      <td>1</td>\n",
       "    </tr>\n",
       "    <tr>\n",
       "      <th>4</th>\n",
       "      <td>IC&amp;amp;E Technician | Bakersfield, CA Mt. Poso...</td>\n",
       "      <td>1</td>\n",
       "    </tr>\n",
       "  </tbody>\n",
       "</table>\n",
       "</div>"
      ],
      "text/plain": [
       "                                         description  fraudulent\n",
       "0  IC&amp;E Technician | Bakersfield, CA Mt. Poso...           1\n",
       "1  The group has raised a fund for the purchase o...           1\n",
       "2  Technician Instrument &amp; ControlsLocation D...           1\n",
       "3                                    Sales Executive           1\n",
       "4  IC&amp;E Technician | Bakersfield, CA Mt. Poso...           1"
      ]
     },
     "execution_count": 3,
     "metadata": {},
     "output_type": "execute_result"
    }
   ],
   "source": [
    "data = pd.read_csv('A.csv',encoding=\"latin-1\")\n",
    "data.head()"
   ]
  },
  {
   "cell_type": "code",
   "execution_count": 4,
   "id": "7323c5cf",
   "metadata": {},
   "outputs": [
    {
     "data": {
      "text/html": [
       "<div>\n",
       "<style scoped>\n",
       "    .dataframe tbody tr th:only-of-type {\n",
       "        vertical-align: middle;\n",
       "    }\n",
       "\n",
       "    .dataframe tbody tr th {\n",
       "        vertical-align: top;\n",
       "    }\n",
       "\n",
       "    .dataframe thead th {\n",
       "        text-align: right;\n",
       "    }\n",
       "</style>\n",
       "<table border=\"1\" class=\"dataframe\">\n",
       "  <thead>\n",
       "    <tr style=\"text-align: right;\">\n",
       "      <th></th>\n",
       "      <th>description</th>\n",
       "      <th>fraudulent</th>\n",
       "    </tr>\n",
       "  </thead>\n",
       "  <tbody>\n",
       "    <tr>\n",
       "      <th>0</th>\n",
       "      <td>IC&amp;amp;E Technician | Bakersfield, CA Mt. Poso...</td>\n",
       "      <td>1</td>\n",
       "    </tr>\n",
       "    <tr>\n",
       "      <th>1</th>\n",
       "      <td>The group has raised a fund for the purchase o...</td>\n",
       "      <td>1</td>\n",
       "    </tr>\n",
       "    <tr>\n",
       "      <th>2</th>\n",
       "      <td>Technician Instrument &amp;amp; ControlsLocation D...</td>\n",
       "      <td>1</td>\n",
       "    </tr>\n",
       "    <tr>\n",
       "      <th>3</th>\n",
       "      <td>Sales Executive</td>\n",
       "      <td>1</td>\n",
       "    </tr>\n",
       "    <tr>\n",
       "      <th>4</th>\n",
       "      <td>IC&amp;amp;E Technician | Bakersfield, CA Mt. Poso...</td>\n",
       "      <td>1</td>\n",
       "    </tr>\n",
       "    <tr>\n",
       "      <th>...</th>\n",
       "      <td>...</td>\n",
       "      <td>...</td>\n",
       "    </tr>\n",
       "    <tr>\n",
       "      <th>1655</th>\n",
       "      <td>A dedicated QPIFY Team is currently looking fo...</td>\n",
       "      <td>0</td>\n",
       "    </tr>\n",
       "    <tr>\n",
       "      <th>1656</th>\n",
       "      <td>Seeking a creative, kid friendly person who ha...</td>\n",
       "      <td>0</td>\n",
       "    </tr>\n",
       "    <tr>\n",
       "      <th>1657</th>\n",
       "      <td>Optimal Business Action S.A., on behalf of its...</td>\n",
       "      <td>0</td>\n",
       "    </tr>\n",
       "    <tr>\n",
       "      <th>1658</th>\n",
       "      <td>We're looking for motivated, talented Senior ....</td>\n",
       "      <td>0</td>\n",
       "    </tr>\n",
       "    <tr>\n",
       "      <th>1659</th>\n",
       "      <td>THE COMPANY: ESRI Ã¢â¬â Environmental Syste...</td>\n",
       "      <td>0</td>\n",
       "    </tr>\n",
       "  </tbody>\n",
       "</table>\n",
       "<p>1660 rows × 2 columns</p>\n",
       "</div>"
      ],
      "text/plain": [
       "                                            description  fraudulent\n",
       "0     IC&amp;E Technician | Bakersfield, CA Mt. Poso...           1\n",
       "1     The group has raised a fund for the purchase o...           1\n",
       "2     Technician Instrument &amp; ControlsLocation D...           1\n",
       "3                                       Sales Executive           1\n",
       "4     IC&amp;E Technician | Bakersfield, CA Mt. Poso...           1\n",
       "...                                                 ...         ...\n",
       "1655  A dedicated QPIFY Team is currently looking fo...           0\n",
       "1656  Seeking a creative, kid friendly person who ha...           0\n",
       "1657  Optimal Business Action S.A., on behalf of its...           0\n",
       "1658  We're looking for motivated, talented Senior ....           0\n",
       "1659  THE COMPANY: ESRI Ã¢â¬â Environmental Syste...           0\n",
       "\n",
       "[1660 rows x 2 columns]"
      ]
     },
     "execution_count": 4,
     "metadata": {},
     "output_type": "execute_result"
    }
   ],
   "source": [
    "data"
   ]
  },
  {
   "cell_type": "markdown",
   "id": "33c12910",
   "metadata": {},
   "source": [
    "Before removing the null data"
   ]
  },
  {
   "cell_type": "code",
   "execution_count": 5,
   "id": "f145ac0c",
   "metadata": {},
   "outputs": [
    {
     "data": {
      "text/plain": [
       "(1660, 2)"
      ]
     },
     "execution_count": 5,
     "metadata": {},
     "output_type": "execute_result"
    }
   ],
   "source": [
    "data.shape"
   ]
  },
  {
   "cell_type": "code",
   "execution_count": 6,
   "id": "0b0815d4",
   "metadata": {},
   "outputs": [],
   "source": [
    "df = data.dropna()"
   ]
  },
  {
   "cell_type": "code",
   "execution_count": 7,
   "id": "3f39a654",
   "metadata": {},
   "outputs": [
    {
     "data": {
      "text/plain": [
       "(1659, 2)"
      ]
     },
     "execution_count": 7,
     "metadata": {},
     "output_type": "execute_result"
    }
   ],
   "source": [
    "df.shape"
   ]
  },
  {
   "cell_type": "code",
   "execution_count": 8,
   "id": "9a5a4517",
   "metadata": {},
   "outputs": [
    {
     "data": {
      "text/plain": [
       "description    0\n",
       "fraudulent     0\n",
       "dtype: int64"
      ]
     },
     "execution_count": 8,
     "metadata": {},
     "output_type": "execute_result"
    }
   ],
   "source": [
    "df.isnull().sum()"
   ]
  },
  {
   "cell_type": "code",
   "execution_count": 9,
   "id": "9a1b9df9",
   "metadata": {},
   "outputs": [
    {
     "name": "stdout",
     "output_type": "stream",
     "text": [
      "<class 'pandas.core.frame.DataFrame'>\n",
      "Int64Index: 1659 entries, 0 to 1659\n",
      "Data columns (total 2 columns):\n",
      " #   Column       Non-Null Count  Dtype \n",
      "---  ------       --------------  ----- \n",
      " 0   description  1659 non-null   object\n",
      " 1   fraudulent   1659 non-null   int64 \n",
      "dtypes: int64(1), object(1)\n",
      "memory usage: 38.9+ KB\n"
     ]
    }
   ],
   "source": [
    "df.info()"
   ]
  },
  {
   "cell_type": "code",
   "execution_count": 10,
   "id": "125a7319",
   "metadata": {},
   "outputs": [
    {
     "data": {
      "text/plain": [
       "Index(['description', 'fraudulent'], dtype='object')"
      ]
     },
     "execution_count": 10,
     "metadata": {},
     "output_type": "execute_result"
    }
   ],
   "source": [
    "df.columns"
   ]
  },
  {
   "cell_type": "code",
   "execution_count": 11,
   "id": "c0ca836f",
   "metadata": {},
   "outputs": [
    {
     "data": {
      "text/plain": [
       "0       False\n",
       "1       False\n",
       "2       False\n",
       "3       False\n",
       "4       False\n",
       "        ...  \n",
       "1655    False\n",
       "1656    False\n",
       "1657    False\n",
       "1658    False\n",
       "1659    False\n",
       "Length: 1659, dtype: bool"
      ]
     },
     "execution_count": 11,
     "metadata": {},
     "output_type": "execute_result"
    }
   ],
   "source": [
    "df.duplicated()"
   ]
  },
  {
   "cell_type": "code",
   "execution_count": 12,
   "id": "72a1dfc7",
   "metadata": {},
   "outputs": [
    {
     "data": {
      "text/plain": [
       "359"
      ]
     },
     "execution_count": 12,
     "metadata": {},
     "output_type": "execute_result"
    }
   ],
   "source": [
    "df.duplicated().sum()"
   ]
  },
  {
   "cell_type": "code",
   "execution_count": 13,
   "id": "393c0099",
   "metadata": {},
   "outputs": [
    {
     "data": {
      "text/plain": [
       "array(['IC&amp;E Technician | Bakersfield, CA Mt. PosoPrincipal Duties and Responsibilities:Ã\\x82Â\\xa0Calibrates, tests, maintains, troubleshoots, and installs all power plant instrumentation, control systems and electrical equipment.Performs maintenance on motor control centers, motor operated valves, generators, excitation equipment and motors.Performs preventive, predictive and corrective maintenance on equipment, coordinating work with various team members.Designs and installs new equipment and/or system modifications.Troubleshoots and performs maintenance on DC backup power equipment, process controls, programmable logic controls (PLC), and emission monitoring equipment.Uses maintenance reporting system to record time and material use, problem identified and corrected, and further action required; provides complete history of maintenance on equipment.Schedule, coordinate, work with and monitor contractors on specific tasks, as required.Follows safe working practices at all times.Identifies safety hazards and recommends solutions.Follows environmental compliance work practices.Identifies environmental non-compliance problems and assist in implementing solutions.Assists other team members and works with all departments to support generating station in achieving their performance goals.Trains other team members in the areas of instrumentation, control, and electrical systems.Performs housekeeping assignments, as directed.Conduct equipment and system tagging according to company and plant rules and regulations.Perform equipment safety inspections, as required, and record results as appropriate.Ã\\x82Â\\xa0Participate in small construction projects.Ã\\x82Â\\xa0 Read and interpret drawings, sketches, prints, and specifications, as required.Orders parts as needed to affect maintenance and repair.Performs Operations tasks on an as-needed basis and other tasks as assigned.Available within a reasonable response time for emergency call-ins and overtime, plus provide acceptable off-hour contact by phone and company pager.Ã\\x82Â\\xa0Ã\\x82Â\\xa0Ã\\x82Â\\xa0Ã\\x82Â\\xa0Ã\\x82Â\\xa0Ã\\x82Â\\xa0Ã\\x82Â\\xa0Ã\\x82Â\\xa0Ã\\x82Â\\xa0 Excellent Verbal and Written Communications Skills:Ability to coordinate work activities with other team members on technical subjects across job families.Ability to work weekends, holidays, and rotating shifts, as required.',\n",
       "       'The group has raised a fund for the purchase of homes in the Southeast. The student on this project will help them build their investments from the ground up and will help with the analysis and modeling of their investments. Ã\\x82Â\\xa0We should be looking for someone with a strong general finance skills and has a lot of entrepreneurial ability.',\n",
       "       \"Technician Instrument &amp; ControlsLocation Deweyville, TXLocation Name: NRG Cottonwood EnergyCategory: MaintenanceState/City: US-TX-DeweyvilleType: Full Time Hourly# Openings: 1Details About this Career Opportunity:Overview:Company Profile:We deliver cleaner and smarter energy choices for our customers, backed by the nationÃ¢â\\x82¬â\\x84¢s largest independent power generation portfolio of fossil fuel, nuclear, solar and wind facilities. A Fortune 500 company is challenging the U.S. energy industry by becoming the largest developer of solar power, building the first privately-funded electric vehicle charging infrastructure, and providing customers with the most advanced smart energy solutions to better manage their energy use. In addition to 47,000 megawatts of generation capacity, enough to supply nearly 40 million homes, our retail electricity providers serve more than two million customers.GENERAL SUMMARYThe Instrumentation Controls and Electrical Technician (IC&amp;E) is responsible for the maintenance and repair of all instruments, control systems and electrical equipment in the power plant and the associated facilities. The IC&amp;E Technician performs work of high skill in the inspection repair, testing, adjustment, installation and removal of all electronic and electrical power plant equipment and systems.PRIMARY FUNCTIONS-Safely perform preventive and corrective maintenance on all plant equipment, systems, and emergency backup systems.-Maintain complete equipment files, logs, and drawings for all designated equipment.-Assist in maintaining and controlling spare parts inventory to maintain plant reliability. Assist in physical inventories.-Participate in the administrative maintenance of the plant operating manuals, technical references, prints and diagrams and preventive/predictive maintenance records.-Inspect repair, install and remove all types of motors, generators, transformers, switches, control equipment, wiring, electrical signal and communication systems, and storage batteries, and work with electrical systems up to and including 4160 volts.-Conduct trouble shooting and analysis on DCS, PLC and GE Mark VI turbine control equipment.-Maintain all plant instrumentation and electrical test equipment.-Fully support and participate in NAES Safety and Regulatory Compliance Programs.-Complete other tasks as assigned by the Maintenance Manager or the Plant Manager.SCOPE OF RESPONSIBILITYThe IC&amp;E Technician operates from established and well-known procedures under minimum supervision, performing duties independently with only general direction given. Decisions are made within prescribed operating and casualty procedures and guidelines. The ICE Technician encounters recurring work situations of high complexity, with occasional variations from the norm.The IC&amp;E Technician must perform work in a safe manner resulting in no accidents, in compliance with all environmental permits at all times. The ICE Technician must effectively communicate information to supervision and fellow plant personnel, relative to the condition of the plant equipment and performance, and provide suggestions for plant improvements. The ICE Technician must perform duties in such a way to result in an optimum cost-benefit ratio.The IC&amp;E Technician may also be assigned the additional responsibility of Maintenance Coordinator/Planner for the site. This is a collateral assignment given to a selected maintenance department technician to assist the Operations and Maintenance Manager with the routine planning and coordination of the site equipment maintenance.The duties include:-The planning and review of the preventative, predictive and pro-active type maintenance.-A more in-depth knowledge and ability to use the CMMS system to provide the necessary review and planning to support the O&amp;M Manager in weekly work routines.-Ability to provide the cognitive coordinated efforts necessary to ensure that weekly routines and preventative maintenance are scheduled and documented as complete when the respective maintenance technician indicates that the work has been performed.-Provide the coordination efforts necessary in support of allowing the O&amp;M Manager to provide the necessary supervision and direction of the maintenance technicians.All employees have the responsibility to both the customer and their co-workers to do the job right the first time and to ensure the customers' needs are being met.\",\n",
       "       ...,\n",
       "       'Optimal Business Action S.A., on behalf of its client, a Luxury Hotel in Alexandria Egypt is looking to recruit an Executive House Keeping. Ã\\x82Â\\xa0The Executive House Keeping is responsible for the cleaning maintenance Ã\\x82Â\\xa0ofÃ\\x82Â\\xa0 all areas of the hotel, with the key aim of enhancing the customer experience and providing excellent standards. Main Duties:Deliver excellent customer service, at all timesMaintain high standards of cleanliness and presentation in all back-of-house areas and customer areasService all bedrooms and corridors, in line with company policyCreate and work to daily job lists from the room status list, arrivals and departures listReport any maintenance issues immediately to line manager, including all furniture, fittings and equipmentFulfil all reasonable requests from guests, to ensure their comfort, satisfaction and safetyCarry out instructions given by the management team and head office',\n",
       "       \"We're looking for motivated, talented Senior .NET Web Developer to join our growing Auckland-based development team.As one of the senior members of the team, you'll be responsible for leading the development of large-scale websites and bespoke applications for a diverse range of clients - both in New Zealand and Australia. You'll also help to support and enhance some existing platforms we've built.Ã\\x82Â\\xa0It's exciting times for us right now, and there will be ample opportunity for you to really stamp your mark if you're up for it.Applicants for this position should have NZ residency or a valid NZ work visa.\",\n",
       "       \"THE COMPANY: ESRI Ã¢â\\x82¬â\\x80\\x9c Environmental Systems Research Institute (#URL_6b9c7dbc8de6a3e168e9c45ac1289630f08cb59eabb68aeaa926cdb16af18c48#)Our passion for improving quality of life through geography is at the heart of everything we do. EsriÃ¢â\\x82¬â\\x84¢s geographic information system (GIS) technology inspires and enables governments, universities and businesses worldwide to save money, lives and our environment through a deeper understanding of the changing world around them.Carefully managed growth and zero debt give Esri stability that is uncommon in today's volatile business world.Ã\\x82Â\\xa0 Privately held, we offer exceptional benefits, competitive salaries, 401(k) and profit-sharing programs, opportunities for personal and professional growth, and much more.THE OPPORTUNITY: Junior Account ExecutiveEsri is looking for self-motivated, driven, results-oriented, top performing Junior Account Executive with a track record of success to join our world-class team. The position will be driving sales, revenue and aggressively expanding EsriÃ¢â\\x82¬â\\x84¢s customer base. This is a hybrid inside/outside sales role with a large regional territory and a very competitive compensation package.SpecificallyÃ¢â\\x82¬Â¦Aggressively prospect, qualify, present, pitch and close potential clients generated through outbound calling, email initiatives, networking and attending appropriate industry events.Promptly and proactively address incoming inquiries/leads generated through online advertising and marketing campaigns.Generate your own sales targets via research, industry articles and specific targeted verticals defined by the sales and marketing strategies.Keep current with industry trends that are relevant to targeted vertical markets, stay up-to-date with relevant technologies and news.Have a complete technical understanding of and ability to articulate and demonstrate EsriÃ¢â\\x82¬â\\x84¢s products and value propositions.Maintain an aggressive sales pipeline with weekly reports to sales management.Provide high touch account management to select current client base.Strategize and work closely with Account Managers to determine potential revenue opportunities within an account.\"],\n",
       "      dtype=object)"
      ]
     },
     "execution_count": 13,
     "metadata": {},
     "output_type": "execute_result"
    }
   ],
   "source": [
    "df.description.unique()"
   ]
  },
  {
   "cell_type": "code",
   "execution_count": 14,
   "id": "8daa7207",
   "metadata": {},
   "outputs": [
    {
     "data": {
      "text/plain": [
       "array([1, 0], dtype=int64)"
      ]
     },
     "execution_count": 14,
     "metadata": {},
     "output_type": "execute_result"
    }
   ],
   "source": [
    "df.fraudulent.unique()"
   ]
  },
  {
   "cell_type": "code",
   "execution_count": 15,
   "id": "fdf44386",
   "metadata": {},
   "outputs": [
    {
     "data": {
      "text/plain": [
       "1    880\n",
       "0    779\n",
       "Name: fraudulent, dtype: int64"
      ]
     },
     "execution_count": 15,
     "metadata": {},
     "output_type": "execute_result"
    }
   ],
   "source": [
    "df.fraudulent.value_counts()"
   ]
  },
  {
   "cell_type": "code",
   "execution_count": 16,
   "id": "9e1951fc",
   "metadata": {},
   "outputs": [
    {
     "data": {
      "text/plain": [
       "Index(['description', 'fraudulent'], dtype='object')"
      ]
     },
     "execution_count": 16,
     "metadata": {},
     "output_type": "execute_result"
    }
   ],
   "source": [
    "df.columns"
   ]
  },
  {
   "cell_type": "code",
   "execution_count": 17,
   "id": "956929b7",
   "metadata": {},
   "outputs": [
    {
     "data": {
      "text/html": [
       "<div>\n",
       "<style scoped>\n",
       "    .dataframe tbody tr th:only-of-type {\n",
       "        vertical-align: middle;\n",
       "    }\n",
       "\n",
       "    .dataframe tbody tr th {\n",
       "        vertical-align: top;\n",
       "    }\n",
       "\n",
       "    .dataframe thead th {\n",
       "        text-align: right;\n",
       "    }\n",
       "</style>\n",
       "<table border=\"1\" class=\"dataframe\">\n",
       "  <thead>\n",
       "    <tr style=\"text-align: right;\">\n",
       "      <th></th>\n",
       "      <th>description</th>\n",
       "      <th>fraudulent</th>\n",
       "    </tr>\n",
       "  </thead>\n",
       "  <tbody>\n",
       "    <tr>\n",
       "      <th>0</th>\n",
       "      <td>IC&amp;amp;E Technician | Bakersfield, CA Mt. Poso...</td>\n",
       "      <td>1</td>\n",
       "    </tr>\n",
       "    <tr>\n",
       "      <th>1</th>\n",
       "      <td>The group has raised a fund for the purchase o...</td>\n",
       "      <td>1</td>\n",
       "    </tr>\n",
       "    <tr>\n",
       "      <th>2</th>\n",
       "      <td>Technician Instrument &amp;amp; ControlsLocation D...</td>\n",
       "      <td>1</td>\n",
       "    </tr>\n",
       "    <tr>\n",
       "      <th>3</th>\n",
       "      <td>Sales Executive</td>\n",
       "      <td>1</td>\n",
       "    </tr>\n",
       "    <tr>\n",
       "      <th>4</th>\n",
       "      <td>IC&amp;amp;E Technician | Bakersfield, CA Mt. Poso...</td>\n",
       "      <td>1</td>\n",
       "    </tr>\n",
       "  </tbody>\n",
       "</table>\n",
       "</div>"
      ],
      "text/plain": [
       "                                         description  fraudulent\n",
       "0  IC&amp;E Technician | Bakersfield, CA Mt. Poso...           1\n",
       "1  The group has raised a fund for the purchase o...           1\n",
       "2  Technician Instrument &amp; ControlsLocation D...           1\n",
       "3                                    Sales Executive           1\n",
       "4  IC&amp;E Technician | Bakersfield, CA Mt. Poso...           1"
      ]
     },
     "execution_count": 17,
     "metadata": {},
     "output_type": "execute_result"
    }
   ],
   "source": [
    "df.head()"
   ]
  },
  {
   "cell_type": "code",
   "execution_count": 18,
   "id": "52bcbb70",
   "metadata": {},
   "outputs": [
    {
     "data": {
      "text/html": [
       "<div>\n",
       "<style scoped>\n",
       "    .dataframe tbody tr th:only-of-type {\n",
       "        vertical-align: middle;\n",
       "    }\n",
       "\n",
       "    .dataframe tbody tr th {\n",
       "        vertical-align: top;\n",
       "    }\n",
       "\n",
       "    .dataframe thead th {\n",
       "        text-align: right;\n",
       "    }\n",
       "</style>\n",
       "<table border=\"1\" class=\"dataframe\">\n",
       "  <thead>\n",
       "    <tr style=\"text-align: right;\">\n",
       "      <th></th>\n",
       "      <th>fraudulent</th>\n",
       "    </tr>\n",
       "  </thead>\n",
       "  <tbody>\n",
       "    <tr>\n",
       "      <th>fraudulent</th>\n",
       "      <td>1.0</td>\n",
       "    </tr>\n",
       "  </tbody>\n",
       "</table>\n",
       "</div>"
      ],
      "text/plain": [
       "            fraudulent\n",
       "fraudulent         1.0"
      ]
     },
     "execution_count": 18,
     "metadata": {},
     "output_type": "execute_result"
    }
   ],
   "source": [
    "df.corr()"
   ]
  },
  {
   "cell_type": "code",
   "execution_count": null,
   "id": "52e3ae25",
   "metadata": {},
   "outputs": [],
   "source": []
  },
  {
   "cell_type": "code",
   "execution_count": null,
   "id": "14ba04ad",
   "metadata": {},
   "outputs": [],
   "source": []
  }
 ],
 "metadata": {
  "kernelspec": {
   "display_name": "Python 3 (ipykernel)",
   "language": "python",
   "name": "python3"
  },
  "language_info": {
   "codemirror_mode": {
    "name": "ipython",
    "version": 3
   },
   "file_extension": ".py",
   "mimetype": "text/x-python",
   "name": "python",
   "nbconvert_exporter": "python",
   "pygments_lexer": "ipython3",
   "version": "3.9.13"
  }
 },
 "nbformat": 4,
 "nbformat_minor": 5
}
