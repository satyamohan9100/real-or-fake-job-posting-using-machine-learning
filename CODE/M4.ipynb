{
 "cells": [
  {
   "cell_type": "markdown",
   "id": "06ac6677",
   "metadata": {},
   "source": [
    "# Implementing SUPPORT VECTOR CLASSIFIER algorithms"
   ]
  },
  {
   "cell_type": "markdown",
   "id": "fdcbffd1",
   "metadata": {},
   "source": [
    "import pandas as pd\n",
    "import numpy as np"
   ]
  },
  {
   "cell_type": "code",
   "execution_count": 1,
   "id": "a5838df0",
   "metadata": {},
   "outputs": [],
   "source": [
    "import warnings\n",
    "warnings.filterwarnings('ignore')\n",
    "import pandas as pd\n",
    "import math as m"
   ]
  },
  {
   "cell_type": "code",
   "execution_count": 2,
   "id": "f2cdc5ce",
   "metadata": {},
   "outputs": [],
   "source": [
    "data = pd.read_csv('A.csv')"
   ]
  },
  {
   "cell_type": "code",
   "execution_count": 3,
   "id": "56247650",
   "metadata": {},
   "outputs": [
    {
     "data": {
      "text/html": [
       "<div>\n",
       "<style scoped>\n",
       "    .dataframe tbody tr th:only-of-type {\n",
       "        vertical-align: middle;\n",
       "    }\n",
       "\n",
       "    .dataframe tbody tr th {\n",
       "        vertical-align: top;\n",
       "    }\n",
       "\n",
       "    .dataframe thead th {\n",
       "        text-align: right;\n",
       "    }\n",
       "</style>\n",
       "<table border=\"1\" class=\"dataframe\">\n",
       "  <thead>\n",
       "    <tr style=\"text-align: right;\">\n",
       "      <th></th>\n",
       "      <th>description</th>\n",
       "      <th>fraudulent</th>\n",
       "    </tr>\n",
       "  </thead>\n",
       "  <tbody>\n",
       "    <tr>\n",
       "      <th>0</th>\n",
       "      <td>IC&amp;amp;E Technician | Bakersfield, CA Mt. Poso...</td>\n",
       "      <td>1</td>\n",
       "    </tr>\n",
       "    <tr>\n",
       "      <th>1</th>\n",
       "      <td>The group has raised a fund for the purchase o...</td>\n",
       "      <td>1</td>\n",
       "    </tr>\n",
       "    <tr>\n",
       "      <th>2</th>\n",
       "      <td>Technician Instrument &amp;amp; ControlsLocation D...</td>\n",
       "      <td>1</td>\n",
       "    </tr>\n",
       "    <tr>\n",
       "      <th>3</th>\n",
       "      <td>Sales Executive</td>\n",
       "      <td>1</td>\n",
       "    </tr>\n",
       "    <tr>\n",
       "      <th>4</th>\n",
       "      <td>IC&amp;amp;E Technician | Bakersfield, CA Mt. Poso...</td>\n",
       "      <td>1</td>\n",
       "    </tr>\n",
       "  </tbody>\n",
       "</table>\n",
       "</div>"
      ],
      "text/plain": [
       "                                         description  fraudulent\n",
       "0  IC&amp;E Technician | Bakersfield, CA Mt. Poso...           1\n",
       "1  The group has raised a fund for the purchase o...           1\n",
       "2  Technician Instrument &amp; ControlsLocation D...           1\n",
       "3                                    Sales Executive           1\n",
       "4  IC&amp;E Technician | Bakersfield, CA Mt. Poso...           1"
      ]
     },
     "execution_count": 3,
     "metadata": {},
     "output_type": "execute_result"
    }
   ],
   "source": [
    "data.head()"
   ]
  },
  {
   "cell_type": "code",
   "execution_count": 4,
   "id": "420fa893",
   "metadata": {},
   "outputs": [
    {
     "data": {
      "text/plain": [
       "(1660, 2)"
      ]
     },
     "execution_count": 4,
     "metadata": {},
     "output_type": "execute_result"
    }
   ],
   "source": [
    "data.shape"
   ]
  },
  {
   "cell_type": "code",
   "execution_count": 5,
   "id": "4e67ba91",
   "metadata": {},
   "outputs": [],
   "source": [
    "df = data.dropna()"
   ]
  },
  {
   "cell_type": "code",
   "execution_count": 6,
   "id": "995e1065",
   "metadata": {},
   "outputs": [
    {
     "data": {
      "text/plain": [
       "array([1, 0], dtype=int64)"
      ]
     },
     "execution_count": 6,
     "metadata": {},
     "output_type": "execute_result"
    }
   ],
   "source": [
    "df['fraudulent'].unique()"
   ]
  },
  {
   "cell_type": "code",
   "execution_count": 7,
   "id": "a94ac7be",
   "metadata": {},
   "outputs": [],
   "source": [
    "import re\n",
    "import string\n",
    "import nltk\n",
    "from nltk.corpus import stopwords\n",
    "from nltk.stem.porter import PorterStemmer"
   ]
  },
  {
   "cell_type": "code",
   "execution_count": 8,
   "id": "3a6b20c6",
   "metadata": {},
   "outputs": [],
   "source": [
    "# remove whitespaces\n",
    "df['description']=df['description'].str.strip()\n",
    "# lowercase the text\n",
    "df['description'] = df['description'].str.lower()\n",
    "#remove punctuation\n",
    "punc = string.punctuation\n",
    "table = str.maketrans('','',punc)\n",
    "df['description']=df['description'].apply(lambda x: x.translate(table))\n",
    "# tokenizing each message\n",
    "df['description']=df.apply(lambda x: x['description'].split(' '),axis=1)\n",
    "# removing stopwords\n",
    "df['description'] = df.apply(lambda x: [word for word in x['description'] if word not in stopwords.words('english')],axis=1)\n",
    "# stemming\n",
    "ps = PorterStemmer()\n",
    "df['description']= df.apply(lambda x: [ps.stem(word) for word in x['description']],axis=1)\n",
    "# remove single letter words\n",
    "df['description'] = df.apply(lambda x: ' '.join([word for word in x['description'] if len(word)>1]),axis=1)\n"
   ]
  },
  {
   "cell_type": "code",
   "execution_count": 9,
   "id": "3232cded",
   "metadata": {},
   "outputs": [],
   "source": [
    "import numpy as np\n",
    "X = np.array(df[\"description\"])\n",
    "y = np.array(df[\"fraudulent\"])"
   ]
  },
  {
   "cell_type": "code",
   "execution_count": 10,
   "id": "ec06a7ab",
   "metadata": {},
   "outputs": [
    {
     "data": {
      "text/plain": [
       "array([1, 1, 1, 1, 1, 1, 1, 1, 1, 1], dtype=int64)"
      ]
     },
     "execution_count": 10,
     "metadata": {},
     "output_type": "execute_result"
    }
   ],
   "source": [
    "y[0:10]"
   ]
  },
  {
   "cell_type": "code",
   "execution_count": 11,
   "id": "26528c76",
   "metadata": {},
   "outputs": [],
   "source": [
    "from sklearn.feature_extraction.text import CountVectorizer\n",
    "cv = CountVectorizer()\n",
    "cv_X = cv.fit_transform(X) # Fit the Data"
   ]
  },
  {
   "cell_type": "code",
   "execution_count": 12,
   "id": "92863169",
   "metadata": {},
   "outputs": [],
   "source": [
    "from sklearn.model_selection import train_test_split\n",
    "X_train, X_test, y_train, y_test = train_test_split(cv_X, y, test_size=0.2, random_state=20)"
   ]
  },
  {
   "cell_type": "code",
   "execution_count": 13,
   "id": "9372aa03",
   "metadata": {},
   "outputs": [
    {
     "data": {
      "text/plain": [
       "SVC()"
      ]
     },
     "execution_count": 13,
     "metadata": {},
     "output_type": "execute_result"
    }
   ],
   "source": [
    "from sklearn.svm import SVC\n",
    "svm = SVC()\n",
    "svm.fit(X_train, y_train)"
   ]
  },
  {
   "cell_type": "code",
   "execution_count": 14,
   "id": "f31f658a",
   "metadata": {},
   "outputs": [],
   "source": [
    "PredictRFC = svm.predict(X_test)"
   ]
  },
  {
   "cell_type": "code",
   "execution_count": 15,
   "id": "a35adf44",
   "metadata": {},
   "outputs": [
    {
     "name": "stdout",
     "output_type": "stream",
     "text": [
      "Accuracy of Support Vector Classifier is:  86\n"
     ]
    }
   ],
   "source": [
    "from sklearn.metrics import accuracy_score\n",
    "acc = accuracy_score(y_test, PredictRFC)*100\n",
    "print('Accuracy of Support Vector Classifier is: ', m.ceil(acc))"
   ]
  },
  {
   "cell_type": "code",
   "execution_count": 16,
   "id": "fa038bd9",
   "metadata": {},
   "outputs": [
    {
     "name": "stdout",
     "output_type": "stream",
     "text": [
      "Confusuion matrix of SUPPORT VECTOR CLASSIFIER\n",
      " [[124  27]\n",
      " [ 20 161]]\n"
     ]
    }
   ],
   "source": [
    "from sklearn.metrics import confusion_matrix\n",
    "print('Confusuion matrix of SUPPORT VECTOR CLASSIFIER\\n',confusion_matrix(y_test,PredictRFC))"
   ]
  },
  {
   "cell_type": "code",
   "execution_count": 17,
   "id": "cdd3405e",
   "metadata": {},
   "outputs": [
    {
     "name": "stdout",
     "output_type": "stream",
     "text": [
      "Classification report of SUPPORT VECTOR CLASSIFIER\n",
      "\n",
      "               precision    recall  f1-score   support\n",
      "\n",
      "           0       0.86      0.82      0.84       151\n",
      "           1       0.86      0.89      0.87       181\n",
      "\n",
      "    accuracy                           0.86       332\n",
      "   macro avg       0.86      0.86      0.86       332\n",
      "weighted avg       0.86      0.86      0.86       332\n",
      "\n"
     ]
    }
   ],
   "source": [
    "from sklearn.metrics import classification_report\n",
    "print('Classification report of SUPPORT VECTOR CLASSIFIER\\n\\n',classification_report(y_test,PredictRFC))"
   ]
  },
  {
   "cell_type": "code",
   "execution_count": null,
   "id": "345c0d20",
   "metadata": {},
   "outputs": [],
   "source": []
  },
  {
   "cell_type": "code",
   "execution_count": null,
   "id": "f52cba44",
   "metadata": {},
   "outputs": [],
   "source": []
  }
 ],
 "metadata": {
  "kernelspec": {
   "display_name": "Python 3 (ipykernel)",
   "language": "python",
   "name": "python3"
  },
  "language_info": {
   "codemirror_mode": {
    "name": "ipython",
    "version": 3
   },
   "file_extension": ".py",
   "mimetype": "text/x-python",
   "name": "python",
   "nbconvert_exporter": "python",
   "pygments_lexer": "ipython3",
   "version": "3.9.13"
  }
 },
 "nbformat": 4,
 "nbformat_minor": 5
}
